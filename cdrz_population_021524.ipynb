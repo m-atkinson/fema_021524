{
 "cells": [
  {
   "cell_type": "code",
   "execution_count": 1,
   "id": "f552b744",
   "metadata": {},
   "outputs": [],
   "source": [
    "\n",
    "import pandas as pd\n",
    "    "
   ]
  },
  {
   "cell_type": "code",
   "execution_count": 2,
   "id": "e3bac147",
   "metadata": {},
   "outputs": [],
   "source": [
    "\n",
    "# Define the path to the data files\n",
    "path = \"/Users/matthewatkinson/Desktop/dsci/\"  # Modify this path to your data directory\n",
    "    "
   ]
  },
  {
   "cell_type": "code",
   "execution_count": 3,
   "id": "0dddf225",
   "metadata": {},
   "outputs": [],
   "source": [
    "\n",
    "# Load the first data file (NRI Table Census Tracts)\n",
    "# Data retrieved from FEMA in February 2024\n",
    "nri_file = 'NRI_Table_CensusTracts.csv'\n",
    "df_nri = pd.read_csv(path + nri_file)\n",
    "    "
   ]
  },
  {
   "cell_type": "code",
   "execution_count": 4,
   "id": "370fedd9",
   "metadata": {},
   "outputs": [],
   "source": [
    "\n",
    "# Load the second data file (FEMA Community Disaster Resilience Zones)\n",
    "cdrz_file = 'FEMA_Community_Disaster_Resilience_Zones_1769773669159817233.csv'\n",
    "df_cdrz = pd.read_csv(path + cdrz_file)\n",
    "    "
   ]
  },
  {
   "cell_type": "code",
   "execution_count": 5,
   "id": "36d9d7c1",
   "metadata": {},
   "outputs": [],
   "source": [
    "\n",
    "# Merge the two dataframes on NRI_ID\n",
    "merged_df = df_cdrz.merge(df_nri[['NRI_ID', 'POPULATION']], left_on='NRI ID', right_on='NRI_ID', how='left').drop('NRI_ID', axis=1)\n",
    "    "
   ]
  },
  {
   "cell_type": "code",
   "execution_count": 6,
   "id": "d8253d5e",
   "metadata": {},
   "outputs": [
    {
     "name": "stdout",
     "output_type": "stream",
     "text": [
      "Total Population in CDRZs: 2056090\n",
      "Number of Counties: 238\n"
     ]
    }
   ],
   "source": [
    "\n",
    "# Calculate and print the total population living in Community Disaster Resilience Zones (CDRZs)\n",
    "total_population = merged_df['POPULATION'].sum()\n",
    "print(f\"Total Population in CDRZs: {total_population}\")\n",
    "\n",
    "# Calculate and print number counties in CDRZs\n",
    "number_counties = merged_df['County'].nunique()\n",
    "print(f\"Number of Counties: {number_counties}\")\n",
    "    "
   ]
  }
 ],
 "metadata": {
  "kernelspec": {
   "display_name": "base",
   "language": "python",
   "name": "python3"
  },
  "language_info": {
   "codemirror_mode": {
    "name": "ipython",
    "version": 3
   },
   "file_extension": ".py",
   "mimetype": "text/x-python",
   "name": "python",
   "nbconvert_exporter": "python",
   "pygments_lexer": "ipython3",
   "version": "3.9.13"
  }
 },
 "nbformat": 4,
 "nbformat_minor": 5
}
